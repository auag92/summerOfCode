{
 "cells": [
  {
   "cell_type": "code",
   "execution_count": 87,
   "metadata": {
    "collapsed": true
   },
   "outputs": [],
   "source": [
    "import fmks\n",
    "import numpy as np\n",
    "import numpy.polynomial.legendre as leg"
   ]
  },
  {
   "cell_type": "code",
   "execution_count": 108,
   "metadata": {
    "collapsed": true
   },
   "outputs": [],
   "source": [
    "import pymks"
   ]
  },
  {
   "cell_type": "code",
   "execution_count": 89,
   "metadata": {
    "collapsed": true
   },
   "outputs": [],
   "source": [
    "def check(X, domain):\n",
    "    if (np.min(X) < domain[0]) or (np.max(X) > domain[1]):\n",
    "        raise RuntimeError(\"X must be within the specified domain\")\n",
    "def scaled_x(X):\n",
    "    return ((2.*X-domain[0]-domain[1])/(domain[1]-domain[0]))\n",
    "def norm(n_states):\n",
    "    return (2.*np.array(n_states)+1)/2.\n",
    "def coeff(n_states):\n",
    "    return np.eye(n_states)*norm(n_states)\n",
    "def leg_x(X, n_states):\n",
    "     return (leg.legval(scaled_x(X),coeff(n_states)))"
   ]
  },
  {
   "cell_type": "code",
   "execution_count": 101,
   "metadata": {
    "collapsed": true
   },
   "outputs": [],
   "source": [
    "def P_n(x, n):\n",
    "    if (n == 0):\n",
    "        return 1\n",
    "    elif (n == 1):\n",
    "        return x\n",
    "    elif (n == 2):\n",
    "        return (0.5*(3*x**2-1))\n",
    "    elif (n == 3):\n",
    "        return (0.5*(5*x**3-3*x))\n",
    "    elif (n == 4):\n",
    "        return (0.125*(35*x**4-30*x**2+3))"
   ]
  },
  {
   "cell_type": "code",
   "execution_count": 107,
   "metadata": {},
   "outputs": [
    {
     "name": "stdout",
     "output_type": "stream",
     "text": [
      "0.1296875\n"
     ]
    }
   ],
   "source": [
    "x = 0.5\n",
    "p0= P_n(x, 0)\n",
    "p1= P_n(x, 1)\n",
    "p2= P_n(x, 2)\n",
    "p3= P_n(x, 3)\n",
    "p4= P_n(x, 4)\n",
    "print((p0+p1+p2+p3+p4)/5)"
   ]
  },
  {
   "cell_type": "code",
   "execution_count": 90,
   "metadata": {
    "collapsed": true
   },
   "outputs": [],
   "source": [
    "def discretize(X, domain, n_states):\n",
    "    check(X, domain)   \n",
    "    return (np.rollaxis(leg_x(X, n_states), 0, len(leg_x(X, n_states).shape)))"
   ]
  },
  {
   "cell_type": "code",
   "execution_count": 91,
   "metadata": {
    "collapsed": true
   },
   "outputs": [],
   "source": [
    "domain = (-1, 1)\n",
    "n_states = 3\n",
    "X = np.array([[0.25, 0.1],\n",
    "              [0.5, 0.25]])"
   ]
  },
  {
   "cell_type": "code",
   "execution_count": 92,
   "metadata": {
    "collapsed": true
   },
   "outputs": [],
   "source": [
    "X1 = discretize(X, domain, n_states)"
   ]
  },
  {
   "cell_type": "code",
   "execution_count": 93,
   "metadata": {
    "scrolled": true
   },
   "outputs": [
    {
     "name": "stdout",
     "output_type": "stream",
     "text": [
      "(2, 2, 3)\n",
      "(2, 2)\n"
     ]
    }
   ],
   "source": [
    "print(X1.shape)\n",
    "print(X.shape)"
   ]
  },
  {
   "cell_type": "code",
   "execution_count": 94,
   "metadata": {},
   "outputs": [
    {
     "data": {
      "text/plain": [
       "array([[ 0.25,  0.1 ],\n",
       "       [ 0.5 ,  0.25]])"
      ]
     },
     "execution_count": 94,
     "metadata": {},
     "output_type": "execute_result"
    }
   ],
   "source": [
    "X"
   ]
  },
  {
   "cell_type": "code",
   "execution_count": 95,
   "metadata": {},
   "outputs": [
    {
     "name": "stdout",
     "output_type": "stream",
     "text": [
      "(2, 2, 1)\n",
      "(2, 2)\n"
     ]
    }
   ],
   "source": [
    "X11 = X.copy()\n",
    "print(X11[...,None].shape)\n",
    "print(X11.shape)"
   ]
  },
  {
   "cell_type": "code",
   "execution_count": 60,
   "metadata": {},
   "outputs": [
    {
     "data": {
      "text/plain": [
       "array([[-1.421875, -1.6975  ],\n",
       "       [-0.4375  , -1.421875]])"
      ]
     },
     "execution_count": 60,
     "metadata": {},
     "output_type": "execute_result"
    }
   ],
   "source": [
    "X1[:,:,2]"
   ]
  },
  {
   "cell_type": "code",
   "execution_count": 3,
   "metadata": {},
   "outputs": [
    {
     "name": "stdout",
     "output_type": "stream",
     "text": [
      "False\n"
     ]
    }
   ],
   "source": [
    "print((3<2))"
   ]
  }
 ],
 "metadata": {
  "kernelspec": {
   "display_name": "Python 3",
   "language": "python",
   "name": "python3"
  },
  "language_info": {
   "codemirror_mode": {
    "name": "ipython",
    "version": 3
   },
   "file_extension": ".py",
   "mimetype": "text/x-python",
   "name": "python",
   "nbconvert_exporter": "python",
   "pygments_lexer": "ipython3",
   "version": "3.6.1"
  }
 },
 "nbformat": 4,
 "nbformat_minor": 2
}
