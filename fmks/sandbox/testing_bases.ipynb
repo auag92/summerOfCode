{
 "cells": [
  {
   "cell_type": "code",
   "execution_count": 2,
   "metadata": {
    "collapsed": true
   },
   "outputs": [],
   "source": [
    "%matplotlib inline  \n",
    "%load_ext autoreload\n",
    "%autoreload 2"
   ]
  },
  {
   "cell_type": "code",
   "execution_count": 3,
   "metadata": {
    "collapsed": true
   },
   "outputs": [],
   "source": [
    "import matplotlib.pyplot as plt\n",
    "def draw(x):\n",
    "    plt.imshow(x)\n",
    "    plt.colorbar()\n",
    "    plt.show()"
   ]
  },
  {
   "cell_type": "code",
   "execution_count": 1,
   "metadata": {
    "collapsed": true
   },
   "outputs": [],
   "source": [
    "import numpy as np\n",
    "import cahnHillSolver as ch\n",
    "import mks_localisation"
   ]
  },
  {
   "cell_type": "code",
   "execution_count": 9,
   "metadata": {
    "collapsed": true
   },
   "outputs": [],
   "source": [
    "import pymks"
   ]
  },
  {
   "cell_type": "code",
   "execution_count": 19,
   "metadata": {
    "scrolled": true
   },
   "outputs": [
    {
     "name": "stdout",
     "output_type": "stream",
     "text": [
      "[[1 0 1 1 0]\n",
      " [0 0 1 0 0]\n",
      " [1 1 0 1 1]\n",
      " [1 1 0 1 1]\n",
      " [1 0 0 1 0]]\n",
      "\n",
      "\n",
      "[[ 0.  1.  0.  0.  1.]\n",
      " [ 1.  1.  0.  1.  1.]\n",
      " [ 0.  0.  1.  0.  0.]\n",
      " [ 0.  0.  1.  0.  0.]\n",
      " [ 0.  1.  1.  0.  1.]]\n",
      "\n",
      "\n",
      "[[ 0.  1.  0.  0.  1.]\n",
      " [ 1.  1.  0.  1.  1.]\n",
      " [ 0.  0.  1.  0.  0.]\n",
      " [ 0.  0.  1.  0.  0.]\n",
      " [ 0.  1.  1.  0.  1.]]\n",
      "\n",
      "\n",
      "[[ 1.  0.  1.  1.  0.]\n",
      " [ 0.  0.  1.  0.  0.]\n",
      " [ 1.  1.  0.  1.  1.]\n",
      " [ 1.  1.  0.  1.  1.]\n",
      " [ 1.  0.  0.  1.  0.]]\n",
      "\n",
      "\n",
      "[[ 1.  0.  1.  1.  0.]\n",
      " [ 0.  0.  1.  0.  0.]\n",
      " [ 1.  1.  0.  1.  1.]\n",
      " [ 1.  1.  0.  1.  1.]\n",
      " [ 1.  0.  0.  1.  0.]]\n"
     ]
    }
   ],
   "source": [
    "np.random.seed(10)\n",
    "X = (np.random.random((5,5))>0.5).astype(int)\n",
    "print(X)\n",
    "print('\\n')\n",
    "X_ = primitive_basis(X, domain=(0,1), n_states=2)\n",
    "print(X_[:,:,0])\n",
    "print(\"\\n\")\n",
    "print(X_prim[:,:,0])\n",
    "print('\\n')\n",
    "print(X_[:,:,1])\n",
    "print(\"\\n\")\n",
    "prim_basis = pymks.PrimitiveBasis(n_states=3)\n",
    "X_prim = prim_basis.discretize(X)\n",
    "print(X_prim[:,:,1])"
   ]
  },
  {
   "cell_type": "code",
   "execution_count": 26,
   "metadata": {
    "collapsed": true
   },
   "outputs": [],
   "source": [
    "import pymks"
   ]
  },
  {
   "cell_type": "code",
   "execution_count": 27,
   "metadata": {
    "collapsed": true
   },
   "outputs": [],
   "source": [
    "import primitive"
   ]
  },
  {
   "cell_type": "code",
   "execution_count": 49,
   "metadata": {},
   "outputs": [
    {
     "name": "stdout",
     "output_type": "stream",
     "text": [
      "pymks\n",
      "[[ 0.  1.]\n",
      " [ 0.  1.]\n",
      " [ 1.  0.]]\n",
      "mine\n",
      "[[ 0.  1.]\n",
      " [ 0.  1.]\n",
      " [ 1.  0.]]\n"
     ]
    }
   ],
   "source": [
    "x_data = np.array([[[1, 1, 0],\n",
    "                    [1, 0 ,2],\n",
    "                    [0, 1, 0]]])\n",
    "assert(x_data.shape == (1, 3, 3))\n",
    "x_test = np.array([[[[0, 1, 0],\n",
    "                     [0, 1, 0],\n",
    "                     [1, 0, 0]],                   \n",
    "                    [[0, 1, 0],\n",
    "                     [1, 0, 0],\n",
    "                     [0, 0, 1]],\n",
    "                    [[1, 0, 0],\n",
    "                     [0, 1, 0],\n",
    "                     [1, 0, 0]]]])\n",
    "x_prim = primitive.primitive_basis(x_data, domain=(0,2), n_states=3)\n",
    "\n",
    "prim_basis = pymks.PrimitiveBasis(n_states=3)\n",
    "\n",
    "assert(np.allclose(x_test, prim_basis.discretize(x_data)))\n",
    "assert(np.allclose(x_test, x_prim))\n",
    "\n",
    "prim_basis = pymks.PrimitiveBasis(n_states=2)\n",
    "X = np.array([1, 1, 0])\n",
    "X_test = np.array([[0, 1, 0],\n",
    "                   [0, 1, 0],\n",
    "                   [1, 0, 0]])\n",
    "# assert(np.allclose(X_test, prim_basis.discretize(X)))\n",
    "print(\"pymks\")\n",
    "print(prim_basis.discretize(X))\n",
    "print(\"mine\")\n",
    "print(primitive.primitive_basis(X, domain=(0,1),n_states=2))"
   ]
  },
  {
   "cell_type": "code",
   "execution_count": 22,
   "metadata": {},
   "outputs": [
    {
     "name": "stdout",
     "output_type": "stream",
     "text": [
      "CPU times: user 1.5 s, sys: 40 ms, total: 1.54 s\n",
      "Wall time: 1.54 s\n"
     ]
    }
   ],
   "source": [
    "%%time\n",
    "X_train, y_train = ch.make_dataset(seed=99, tsteps=10, shape=(200,51,51), dx=0.1, dt=1e-2, gamma=1.)\n",
    "X_test, y_test   = ch.make_dataset(seed=81, tsteps=10, shape=(10,51,51), dx=0.1, dt=1e-2, gamma=1.)"
   ]
  },
  {
   "cell_type": "code",
   "execution_count": 24,
   "metadata": {},
   "outputs": [
    {
     "data": {
      "image/png": "[encoded data removed]",
      "text/plain": [
       "<matplotlib.figure.Figure at 0x7f14dfba94a8>"
      ]
     },
     "metadata": {},
     "output_type": "display_data"
    },
    {
     "data": {
      "image/png": "[encoded data removed]",
      "text/plain": [
       "<matplotlib.figure.Figure at 0x7f14debfcd30>"
      ]
     },
     "metadata": {},
     "output_type": "display_data"
    },
    {
     "name": "stdout",
     "output_type": "stream",
     "text": [
      "CPU times: user 3.94 s, sys: 424 ms, total: 4.36 s\n",
      "Wall time: 2.98 s\n"
     ]
    }
   ],
   "source": [
    "%%time\n",
    "n_states_ = 10\n",
    "domain_   = (-1, 1)\n",
    "disc      = legendre.legendre_basis\n",
    "# disc      = primitive.primitive_basis\n",
    "coeff_    = mks_localisation.fit(X=X_train, y=y_train, domain=domain_, n_states=n_states_, discretize=disc)\n",
    "y_predict = mks_localisation.predict(X=X_test, coeff=coeff_, domain=domain_, n_states=n_states_, discretize=disc)\n",
    "draw(y_test[3])\n",
    "draw(y_predict[3])"
   ]
  }
 ],
 "metadata": {
  "kernelspec": {
   "display_name": "Python 3",
   "language": "python",
   "name": "python3"
  },
  "language_info": {
   "codemirror_mode": {
    "name": "ipython",
    "version": 3
   },
   "file_extension": ".py",
   "mimetype": "text/x-python",
   "name": "python",
   "nbconvert_exporter": "python",
   "pygments_lexer": "ipython3",
   "version": "3.6.1"
  }
 },
 "nbformat": 4,
 "nbformat_minor": 2
}
